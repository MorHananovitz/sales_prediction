{
 "cells": [
  {
   "cell_type": "markdown",
   "id": "1a84ecdd-8dc1-45f6-82f3-1bcc557efef3",
   "metadata": {},
   "source": [
    "# Model\n",
    "\n",
    "<u>Notes:</u>\n",
    "1. Please run the utility file to get the clean data frames\n",
    "2. Due to time limitations I will only train a model to predict one product. I will choose the one with the most interesting seasonality to I can run a SARIMAX model.\n",
    "\n",
    "__SARIMAX Model__\n",
    "\n",
    "All the needed SARIMAX components exist in the given raw data.\n",
    "\n",
    "**Therefore I will use Product E to demonstrate:**\n",
    "\n",
    "![image](seasonal_decomposition_e.jpg)"
   ]
  },
  {
   "cell_type": "markdown",
   "id": "9ce0b832-29f4-409c-ab34-eb4149a52392",
   "metadata": {
    "tags": []
   },
   "source": [
    "### Dependencies"
   ]
  },
  {
   "cell_type": "code",
   "execution_count": 477,
   "id": "ea57f793-3d46-4ec9-9d60-90d7aace66b2",
   "metadata": {},
   "outputs": [],
   "source": [
    "import pandas as pd\n",
    "import numpy as np\n",
    "import matplotlib.pyplot as plt\n",
    "from statsmodels.tsa.stattools import adfuller\n",
    "import statsmodels.api as sm\n",
    "from sklearn.metrics import mean_squared_error\n",
    "\n",
    "import warnings\n",
    "warnings.filterwarnings(\"ignore\")"
   ]
  },
  {
   "cell_type": "markdown",
   "id": "e4f77856-0696-400d-b328-3bb495048054",
   "metadata": {},
   "source": [
    "### Getting the data"
   ]
  },
  {
   "cell_type": "code",
   "execution_count": 478,
   "id": "99910735-d579-4f8b-9c5f-76f80afa97bd",
   "metadata": {},
   "outputs": [],
   "source": [
    "sales_df = pd.read_pickle('sales.pkl')\n",
    "holidays_df = pd.read_pickle('holidays.pkl')\n",
    "events_df = pd.read_pickle('events.pkl')"
   ]
  },
  {
   "cell_type": "markdown",
   "id": "00341b46-666f-4195-9eb6-f51853693579",
   "metadata": {},
   "source": [
    "Extract product e from the data set"
   ]
  },
  {
   "cell_type": "code",
   "execution_count": 479,
   "id": "88f564be-433b-4ff7-abb3-dcf6010a927d",
   "metadata": {},
   "outputs": [],
   "source": [
    "cat_e_df = sales_df[sales_df['category'] == 'e'].copy()\n",
    "cat_e_df = cat_e_df.drop('category', axis = 1)\n",
    "cat_e_df['date'] = pd.to_datetime(cat_e_df['date'], format='%d-%m-%Y')\n",
    "\n",
    "cat_e_df = cat_e_df.set_index('date').sort_values('date', ascending = True)"
   ]
  },
  {
   "cell_type": "markdown",
   "id": "f8c696f3-b1b0-4ab7-913e-3662108d7a46",
   "metadata": {},
   "source": [
    "### Augmented Dickey–Fuller Test\n",
    "The Augmented Dickey-Fuller Test is used to determine if time-series data is stationary or not. Similar to a t-test, we set a significance level before the test and make conclusions on the hypothesis based on the resulting p-value.\n",
    "\n",
    "<u>Null Hypothesis:</u> The data is not stationary.\n",
    "\n",
    "<u>Alternative Hypothesis:</u>  The data is stationary."
   ]
  },
  {
   "cell_type": "code",
   "execution_count": 480,
   "id": "278781a7-8a38-499d-b23f-fb1a03281abf",
   "metadata": {},
   "outputs": [
    {
     "name": "stdout",
     "output_type": "stream",
     "text": [
      "Results of Dickey Fuller Test:\n",
      "Test Statistic                 -0.964841\n",
      "p-value                         0.765871\n",
      "#Lags Used                      7.000000\n",
      "Number of Observations Used    33.000000\n",
      "Critical Value (1%)            -3.646135\n",
      "Critical Value (5%)            -2.954127\n",
      "Critical Value (10%)           -2.615968\n",
      "dtype: float64\n"
     ]
    }
   ],
   "source": [
    "print('Results of Dickey Fuller Test:')\n",
    "dftest = adfuller(cat_e_df['sales'], autolag='AIC')\n",
    "\n",
    "dfoutput = pd.Series(dftest[0:4], index=['Test Statistic','p-value','#Lags Used','Number of Observations Used'])\n",
    "for key,value in dftest[4].items():\n",
    "    dfoutput['Critical Value (%s)'%key] = value\n",
    "    \n",
    "print(dfoutput)"
   ]
  },
  {
   "cell_type": "markdown",
   "id": "73fa0155-d454-44f2-9847-4285955c7609",
   "metadata": {},
   "source": [
    "**Pvalue = 0.765 (grater then 0.05) there for we conclude the data is not stationary**"
   ]
  },
  {
   "cell_type": "markdown",
   "id": "85001638-2726-4f1d-af9d-c2fe83156d32",
   "metadata": {},
   "source": [
    "Create the Exogenous Variables data using holidays and events files:\n",
    "- count the number of events per month\n",
    "- complete missing months and fill na(0) where needed to match the sales date range"
   ]
  },
  {
   "cell_type": "code",
   "execution_count": 481,
   "id": "3f46fee8-8c18-4715-99fd-5f3998216fde",
   "metadata": {},
   "outputs": [],
   "source": [
    "events_per_month = events_df.resample('M').size().reset_index(name='event_count')\n",
    "\n",
    "events_per_month['date'] = events_per_month['date'].dt.to_period('M').dt.to_timestamp()\n",
    "\n",
    "holidays_per_month = holidays_df.resample('M').size().reset_index(name='holiday_count')\n",
    "\n",
    "holidays_per_month['date'] = holidays_per_month['date'].dt.to_period('M').dt.to_timestamp()\n",
    "\n",
    "exog_set = pd.merge(events_per_month, holidays_per_month, on='date', how='outer').fillna(0).set_index('date')"
   ]
  },
  {
   "cell_type": "code",
   "execution_count": 482,
   "id": "60782eb7-e95d-4047-b507-9006819a147a",
   "metadata": {},
   "outputs": [],
   "source": [
    "date_range = pd.date_range(start='2020-01-01', end='2023-05-01', freq='MS')  # MS for start of month\n",
    "exog_complete = pd.DataFrame(index=date_range)\n",
    "\n",
    "exog_df = exog_set.merge(exog_complete, how='outer', left_index=True, right_index=True).fillna(0).reset_index().rename(columns = {'index' : 'date'})"
   ]
  },
  {
   "cell_type": "code",
   "execution_count": 483,
   "id": "6aa21a81-3a7f-4ec0-82dd-d553a7cf66a3",
   "metadata": {},
   "outputs": [],
   "source": [
    "exog_df = exog_df.set_index('date')"
   ]
  },
  {
   "cell_type": "markdown",
   "id": "fccc5f9f-5244-4f8e-81ab-20587dad67b4",
   "metadata": {},
   "source": [
    "### Split to train + validation sets:\n",
    "* Training period - 01-2020 - 02-2023\n",
    "* Validation period - 03-2023 - 05-2023\n"
   ]
  },
  {
   "cell_type": "code",
   "execution_count": 484,
   "id": "940ff519-9b86-41dd-8252-74ab2e2a8b76",
   "metadata": {},
   "outputs": [],
   "source": [
    "train_start = pd.to_datetime('01-01-2020', dayfirst=True)\n",
    "train_end = pd.to_datetime('28-02-2023', dayfirst=True)\n",
    "val_start = pd.to_datetime('01-03-2023', dayfirst=True)\n",
    "val_end = pd.to_datetime('31-05-2023', dayfirst=True)"
   ]
  },
  {
   "cell_type": "code",
   "execution_count": 485,
   "id": "cfbfef6c-31da-41e7-a985-a4dd713485da",
   "metadata": {},
   "outputs": [],
   "source": [
    "cat_e_df.index = pd.to_datetime(cat_e_df.index)\n",
    "exog_df.index = pd.to_datetime(exog_df.index)\n",
    "\n",
    "train_df = cat_e_df[(cat_e_df.index >= pd.Timestamp(train_start)) & (cat_e_df.index <= pd.Timestamp(train_end))]\n",
    "val_df = cat_e_df[(cat_e_df.index >= pd.Timestamp(val_start)) & (cat_e_df.index <= pd.Timestamp(val_end))]\n",
    "\n",
    "exog_train_df = exog_df[(exog_df.index >= pd.Timestamp(train_start)) & (exog_df.index <= pd.Timestamp(train_end))]\n",
    "exog_val_df = exog_df[(exog_df.index >= pd.Timestamp(val_start)) & (exog_df.index <= pd.Timestamp(val_end))]"
   ]
  },
  {
   "cell_type": "code",
   "execution_count": 486,
   "id": "1059f618-0612-42f0-846e-1abc22b059bc",
   "metadata": {},
   "outputs": [],
   "source": [
    "exog_train_df = exog_train_df.reindex(train_df.index)"
   ]
  },
  {
   "cell_type": "markdown",
   "id": "a26a7134-a105-4bd7-bf48-c7c9edd47053",
   "metadata": {},
   "source": [
    "# SARIMAX"
   ]
  },
  {
   "cell_type": "code",
   "execution_count": 487,
   "id": "f4744a65-d79b-4a97-bde3-a7fa55340943",
   "metadata": {},
   "outputs": [
    {
     "name": "stdout",
     "output_type": "stream",
     "text": [
      "                                     SARIMAX Results                                      \n",
      "==========================================================================================\n",
      "Dep. Variable:                              sales   No. Observations:                   38\n",
      "Model:             SARIMAX(1, 1, 1)x(1, 1, 1, 12)   Log Likelihood                -175.291\n",
      "Date:                            Sat, 08 Jul 2023   AIC                            366.583\n",
      "Time:                                    15:44:00   BIC                            376.334\n",
      "Sample:                                01-01-2020   HQIC                           369.287\n",
      "                                     - 02-01-2023                                         \n",
      "Covariance Type:                              opg                                         \n",
      "=================================================================================\n",
      "                    coef    std err          z      P>|z|      [0.025      0.975]\n",
      "---------------------------------------------------------------------------------\n",
      "drift            -1.2342      4.498     -0.274      0.784     -10.051       7.582\n",
      "event_count      13.2920     63.427      0.210      0.834    -111.022     137.606\n",
      "holiday_count     7.4175     19.371      0.383      0.702     -30.550      45.385\n",
      "ar.L1            -0.3495      0.543     -0.643      0.520      -1.415       0.716\n",
      "ma.L1            -0.9999      1.350     -0.741      0.459      -3.645       1.646\n",
      "ar.S.L12         -0.9999      7.931     -0.126      0.900     -16.544      14.544\n",
      "ma.S.L12          0.9998      9.282      0.108      0.914     -17.193      19.193\n",
      "sigma2         6.238e+04      0.000   4.64e+08      0.000    6.24e+04    6.24e+04\n",
      "===================================================================================\n",
      "Ljung-Box (L1) (Q):                   0.74   Jarque-Bera (JB):                15.15\n",
      "Prob(Q):                              0.39   Prob(JB):                         0.00\n",
      "Heteroskedasticity (H):               7.54   Skew:                            -1.37\n",
      "Prob(H) (two-sided):                  0.01   Kurtosis:                         5.65\n",
      "===================================================================================\n",
      "\n",
      "Warnings:\n",
      "[1] Covariance matrix calculated using the outer product of gradients (complex-step).\n",
      "[2] Covariance matrix is singular or near-singular, with condition number 6.85e+27. Standard errors may be unstable.\n"
     ]
    }
   ],
   "source": [
    "model = sm.tsa.SARIMAX(train_df, exog=exog_train_df, order=(1,1,1), seasonal_order=(1, 1, 1, 12), trend='t', trend_order=2)\n",
    "\n",
    "model_fit = model.fit(disp=False)\n",
    "print(model_fit.summary())"
   ]
  },
  {
   "cell_type": "code",
   "execution_count": 488,
   "id": "bc69bc6e-e510-4c59-bfea-64bf2bebb676",
   "metadata": {},
   "outputs": [],
   "source": [
    "exog_val_rows = exog_val_df.values\n",
    "predictions = []\n",
    "\n",
    "for i in range(len(val_df)):\n",
    "    prediction = model_fit.get_prediction(start=val_df.index[i], end=val_df.index[i], exog=exog_val_rows[:i+1], dynamic=True)\n",
    "    predicted_value = prediction.predicted_mean[0]\n",
    "    predictions.append(predicted_value)\n",
    "\n",
    "train_df[val_df.index] = predictions\n",
    "\n",
    "model_fit = model.fit(start_params=model_fit.params, disp=False)"
   ]
  },
  {
   "cell_type": "code",
   "execution_count": 489,
   "id": "e796e0dd-4523-49b8-9d1e-9e154954aa44",
   "metadata": {},
   "outputs": [],
   "source": [
    "val_df['predicted_value'] = predictions\n",
    "\n",
    "mse = mean_squared_error(val_df['sales'], val_df['predicted_value'])\n",
    "rmse = np.sqrt(mse)"
   ]
  },
  {
   "cell_type": "markdown",
   "id": "a19cc9d1-de5f-407a-bdb6-d81d929ff02d",
   "metadata": {},
   "source": [
    "## Here are some example for parameters tuning tested and their RMSE:\n",
    "\n",
    "* RMSE: 503.8497035837966\n",
    "\n",
    "order=(1, 1, 1), seasonal_order=(1, 1, 1, 12)\n",
    "\n",
    "* RMSE: 475.2791161906294\n",
    "\n",
    "order=(1,1,1), seasonal_order=(1, 1, 1, 12), trend='t', trend_order=2\n",
    "\n",
    "* RMSE: 813.0748098260805\n",
    "\n",
    "order=(2,1,1), seasonal_order=(2, 1, 1, 12), trend='t', trend_order=2\n",
    "\n",
    "* RMSE: 1169.2753243202699\n",
    "\n",
    "order=(1,2,1), seasonal_order=(1, 2, 1, 12), trend='t', trend_order=2\n",
    "\n",
    "* RMSE: 529.7055698060717\n",
    "\n",
    "order=(1,1,2), seasonal_order=(1, 1, 2, 12), trend='t', trend_order=2\n",
    "* RMSE: 657.3187014265925\n",
    "\n",
    "order=(0,1,0), seasonal_order=(0, 1, 0, 12), trend='t', trend_order=2\n"
   ]
  },
  {
   "cell_type": "markdown",
   "id": "93db6fbc-68b7-43ec-a012-1873edc964f7",
   "metadata": {},
   "source": [
    "### Retrain for the entire period of data:\n",
    "\n",
    "create a full range of the exog data"
   ]
  },
  {
   "cell_type": "code",
   "execution_count": 490,
   "id": "86e77a69-6f53-421f-a889-7fccb1e40235",
   "metadata": {},
   "outputs": [],
   "source": [
    "retrain_start = pd.to_datetime('01-01-2020', dayfirst=True)\n",
    "retrain_end = pd.to_datetime('31-05-2023', dayfirst=True)\n",
    "predict_start = pd.to_datetime('01-06-2023', dayfirst=True)\n",
    "predict_end = pd.to_datetime('30-11-2023', dayfirst=True)"
   ]
  },
  {
   "cell_type": "code",
   "execution_count": 491,
   "id": "6ee50a85-6ddf-4b5d-947e-3c6073c7642b",
   "metadata": {},
   "outputs": [],
   "source": [
    "retrain_df = cat_e_df[(cat_e_df.index >= pd.Timestamp(retrain_start)) & (cat_e_df.index <= pd.Timestamp(retrain_end))]\n",
    "exog_retrain = exog_df[(exog_df.index >= pd.Timestamp(retrain_start)) & (exog_df.index <= pd.Timestamp(retrain_end))]\n",
    "exog_predict = exog_df[(exog_df.index >= pd.Timestamp(predict_start)) & (exog_df.index <= pd.Timestamp(predict_end))]\n",
    "\n",
    "exog_retrain = exog_retrain.reindex(retrain_df.index)"
   ]
  },
  {
   "cell_type": "code",
   "execution_count": 492,
   "id": "39e44487-6b8f-4b89-841e-cbdc24e198e2",
   "metadata": {},
   "outputs": [
    {
     "name": "stdout",
     "output_type": "stream",
     "text": [
      "                                     SARIMAX Results                                      \n",
      "==========================================================================================\n",
      "Dep. Variable:                              sales   No. Observations:                   41\n",
      "Model:             SARIMAX(1, 1, 1)x(1, 1, 1, 12)   Log Likelihood                -199.719\n",
      "Date:                            Sat, 08 Jul 2023   AIC                            415.438\n",
      "Time:                                    15:44:02   BIC                            426.096\n",
      "Sample:                                01-01-2020   HQIC                           418.696\n",
      "                                     - 05-01-2023                                         \n",
      "Covariance Type:                              opg                                         \n",
      "=================================================================================\n",
      "                    coef    std err          z      P>|z|      [0.025      0.975]\n",
      "---------------------------------------------------------------------------------\n",
      "drift            -1.3424      2.712     -0.495      0.621      -6.658       3.973\n",
      "event_count      16.0117     60.084      0.266      0.790    -101.751     133.774\n",
      "holiday_count     7.8937     18.292      0.432      0.666     -27.958      43.746\n",
      "ar.L1            -0.3809      0.528     -0.721      0.471      -1.417       0.655\n",
      "ma.L1            -0.9998      0.479     -2.086      0.037      -1.939      -0.060\n",
      "ar.S.L12         -0.9999      4.825     -0.207      0.836     -10.457       8.457\n",
      "ma.S.L12          0.9999      5.583      0.179      0.858      -9.943      11.943\n",
      "sigma2         8.048e+04      0.000   5.31e+08      0.000    8.05e+04    8.05e+04\n",
      "===================================================================================\n",
      "Ljung-Box (L1) (Q):                   0.27   Jarque-Bera (JB):                 6.25\n",
      "Prob(Q):                              0.60   Prob(JB):                         0.04\n",
      "Heteroskedasticity (H):              10.66   Skew:                            -0.98\n",
      "Prob(H) (two-sided):                  0.00   Kurtosis:                         4.22\n",
      "===================================================================================\n",
      "\n",
      "Warnings:\n",
      "[1] Covariance matrix calculated using the outer product of gradients (complex-step).\n",
      "[2] Covariance matrix is singular or near-singular, with condition number 6.62e+27. Standard errors may be unstable.\n"
     ]
    }
   ],
   "source": [
    "model = sm.tsa.SARIMAX(retrain_df, exog=exog_retrain, order=(1,1,1), seasonal_order=(1, 1, 1, 12), trend='t', trend_order=2)\n",
    "\n",
    "model_fit = model.fit(disp=False)\n",
    "print(model_fit.summary())"
   ]
  },
  {
   "cell_type": "code",
   "execution_count": 493,
   "id": "212433f5-6a48-4853-a957-c7e3f45a1be4",
   "metadata": {},
   "outputs": [
    {
     "data": {
      "text/plain": [
       "[414.06350281920857,\n",
       " 621.2410772131253,\n",
       " 556.9253293063235,\n",
       " -306.3300175486068,\n",
       " 443.0662304079341,\n",
       " 702.1585540792671]"
      ]
     },
     "execution_count": 493,
     "metadata": {},
     "output_type": "execute_result"
    }
   ],
   "source": [
    "exog_val_rows = exog_predict.values\n",
    "predictions = []\n",
    "\n",
    "for i in range(len(exog_predict)):\n",
    "    prediction = model_fit.get_prediction(start=exog_predict.index[i], end=exog_predict.index[i], exog=exog_val_rows[:i+1], dynamic=True)\n",
    "    predicted_value = prediction.predicted_mean[0]\n",
    "    predictions.append(predicted_value)\n",
    "\n",
    "retrain_df[exog_predict.index] = predictions\n",
    "\n",
    "model_fit = model.fit(start_params=model_fit.params, disp=False)\n",
    "predictions"
   ]
  },
  {
   "cell_type": "code",
   "execution_count": 494,
   "id": "634709e0-5c44-46f5-aac2-66f0935b429e",
   "metadata": {},
   "outputs": [
    {
     "data": {
      "text/html": [
       "<div>\n",
       "<style scoped>\n",
       "    .dataframe tbody tr th:only-of-type {\n",
       "        vertical-align: middle;\n",
       "    }\n",
       "\n",
       "    .dataframe tbody tr th {\n",
       "        vertical-align: top;\n",
       "    }\n",
       "\n",
       "    .dataframe thead th {\n",
       "        text-align: right;\n",
       "    }\n",
       "</style>\n",
       "<table border=\"1\" class=\"dataframe\">\n",
       "  <thead>\n",
       "    <tr style=\"text-align: right;\">\n",
       "      <th></th>\n",
       "      <th>sales predictions</th>\n",
       "    </tr>\n",
       "    <tr>\n",
       "      <th>date</th>\n",
       "      <th></th>\n",
       "    </tr>\n",
       "  </thead>\n",
       "  <tbody>\n",
       "    <tr>\n",
       "      <th>2023-06-01</th>\n",
       "      <td>414.063503</td>\n",
       "    </tr>\n",
       "    <tr>\n",
       "      <th>2023-07-01</th>\n",
       "      <td>621.241077</td>\n",
       "    </tr>\n",
       "    <tr>\n",
       "      <th>2023-08-01</th>\n",
       "      <td>556.925329</td>\n",
       "    </tr>\n",
       "    <tr>\n",
       "      <th>2023-09-01</th>\n",
       "      <td>-306.330018</td>\n",
       "    </tr>\n",
       "    <tr>\n",
       "      <th>2023-10-01</th>\n",
       "      <td>443.066230</td>\n",
       "    </tr>\n",
       "    <tr>\n",
       "      <th>2023-11-01</th>\n",
       "      <td>702.158554</td>\n",
       "    </tr>\n",
       "  </tbody>\n",
       "</table>\n",
       "</div>"
      ],
      "text/plain": [
       "            sales predictions\n",
       "date                         \n",
       "2023-06-01         414.063503\n",
       "2023-07-01         621.241077\n",
       "2023-08-01         556.925329\n",
       "2023-09-01        -306.330018\n",
       "2023-10-01         443.066230\n",
       "2023-11-01         702.158554"
      ]
     },
     "execution_count": 494,
     "metadata": {},
     "output_type": "execute_result"
    }
   ],
   "source": [
    "sales_predictions = pd.DataFrame()\n",
    "sales_predictions['sales predictions'] = predictions\n",
    "sales_predictions.set_index(exog_predict.index, inplace=True)\n",
    "sales_predictions"
   ]
  }
 ],
 "metadata": {
  "kernelspec": {
   "display_name": "anaconda-panel-2023.05-py310",
   "language": "python",
   "name": "conda-env-anaconda-panel-2023.05-py310-py"
  },
  "language_info": {
   "codemirror_mode": {
    "name": "ipython",
    "version": 3
   },
   "file_extension": ".py",
   "mimetype": "text/x-python",
   "name": "python",
   "nbconvert_exporter": "python",
   "pygments_lexer": "ipython3",
   "version": "3.11.3"
  }
 },
 "nbformat": 4,
 "nbformat_minor": 5
}
